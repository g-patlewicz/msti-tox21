{
 "cells": [
  {
   "cell_type": "markdown",
   "metadata": {},
   "source": [
    "### Revisiting the MSTI data after re-pipelining a second time post "
   ]
  },
  {
   "cell_type": "markdown",
   "metadata": {},
   "source": [
    "Prepared by: Grace Patlewicz <br>\n",
    "Last modified: 26 January 2023 <br>\n",
    "Modifications: Adjusting chart titles and axis in response to reviewer comments"
   ]
  },
  {
   "cell_type": "code",
   "execution_count": 1,
   "metadata": {},
   "outputs": [],
   "source": [
    "import numpy as np\n",
    "import pandas as pd\n",
    "import matplotlib.pyplot as plt\n",
    "import seaborn as sns\n",
    "import os\n",
    "%matplotlib inline"
   ]
  },
  {
   "cell_type": "code",
   "execution_count": 2,
   "metadata": {},
   "outputs": [],
   "source": [
    "import openpyxl"
   ]
  },
  {
   "cell_type": "code",
   "execution_count": 3,
   "metadata": {},
   "outputs": [],
   "source": [
    "TOP = os.getcwd().replace('notebooks', '')\n",
    "raw_dir = TOP + 'data/raw/'\n",
    "processed_dir = TOP + 'data/processed/'\n",
    "interim_dir = TOP + 'data/interim/'\n",
    "external_dir = TOP + 'data/external/'\n",
    "figures_dir = TOP + 'reports/figures/'\n"
   ]
  },
  {
   "cell_type": "markdown",
   "metadata": {},
   "source": [
    "#### Reading in the sc2 msti  data"
   ]
  },
  {
   "cell_type": "code",
   "execution_count": 4,
   "metadata": {},
   "outputs": [],
   "source": [
    "xls = pd.read_excel(processed_dir+'MSTI_invitrodb_01Nov2021_GP.xlsx', sheet_name = None)"
   ]
  },
  {
   "cell_type": "code",
   "execution_count": 5,
   "metadata": {},
   "outputs": [
    {
     "data": {
      "text/plain": [
       "dict_keys(['comparison_of_all', 'sc2', 'sc1', 'sc0', 'simmons_pilot', 'aeid_table'])"
      ]
     },
     "execution_count": 5,
     "metadata": {},
     "output_type": "execute_result"
    }
   ],
   "source": [
    "xls.keys()"
   ]
  },
  {
   "cell_type": "code",
   "execution_count": 6,
   "metadata": {},
   "outputs": [],
   "source": [
    "sc2 = pd.read_excel(processed_dir+'MSTI_invitrodb_01Nov2021_GP.xlsx', sheet_name = 'sc2')"
   ]
  },
  {
   "cell_type": "code",
   "execution_count": 7,
   "metadata": {},
   "outputs": [
    {
     "data": {
      "text/plain": [
       "(19339, 15)"
      ]
     },
     "execution_count": 7,
     "metadata": {},
     "output_type": "execute_result"
    }
   ],
   "source": [
    "sc2.shape"
   ]
  },
  {
   "cell_type": "code",
   "execution_count": 8,
   "metadata": {},
   "outputs": [
    {
     "data": {
      "text/html": [
       "<div>\n",
       "<style scoped>\n",
       "    .dataframe tbody tr th:only-of-type {\n",
       "        vertical-align: middle;\n",
       "    }\n",
       "\n",
       "    .dataframe tbody tr th {\n",
       "        vertical-align: top;\n",
       "    }\n",
       "\n",
       "    .dataframe thead th {\n",
       "        text-align: right;\n",
       "    }\n",
       "</style>\n",
       "<table border=\"1\" class=\"dataframe\">\n",
       "  <thead>\n",
       "    <tr style=\"text-align: right;\">\n",
       "      <th></th>\n",
       "      <th>spid</th>\n",
       "      <th>chid</th>\n",
       "      <th>casn</th>\n",
       "      <th>chnm</th>\n",
       "      <th>dsstox_substance_id</th>\n",
       "      <th>code</th>\n",
       "      <th>aeid</th>\n",
       "      <th>aenm</th>\n",
       "      <th>s2id</th>\n",
       "      <th>bmad</th>\n",
       "      <th>max_med</th>\n",
       "      <th>hitc</th>\n",
       "      <th>coff</th>\n",
       "      <th>resp_unit</th>\n",
       "      <th>conc_unit</th>\n",
       "    </tr>\n",
       "  </thead>\n",
       "  <tbody>\n",
       "    <tr>\n",
       "      <th>0</th>\n",
       "      <td>DMSO</td>\n",
       "      <td>NaN</td>\n",
       "      <td>67-68-5</td>\n",
       "      <td>Dimethyl sulfoxide</td>\n",
       "      <td>DTXSID2021735</td>\n",
       "      <td>NaN</td>\n",
       "      <td>2543</td>\n",
       "      <td>TOX21_msti_p2_activity</td>\n",
       "      <td>5005221</td>\n",
       "      <td>4.641546</td>\n",
       "      <td>0.000000</td>\n",
       "      <td>0</td>\n",
       "      <td>13.924638</td>\n",
       "      <td>percent_activity</td>\n",
       "      <td>NaN</td>\n",
       "    </tr>\n",
       "    <tr>\n",
       "      <th>1</th>\n",
       "      <td>DMSO</td>\n",
       "      <td>NaN</td>\n",
       "      <td>67-68-5</td>\n",
       "      <td>Dimethyl sulfoxide</td>\n",
       "      <td>DTXSID2021735</td>\n",
       "      <td>NaN</td>\n",
       "      <td>3017</td>\n",
       "      <td>TOX21_msti_p3_activity</td>\n",
       "      <td>5024176</td>\n",
       "      <td>6.962048</td>\n",
       "      <td>0.000000</td>\n",
       "      <td>0</td>\n",
       "      <td>20.886145</td>\n",
       "      <td>percent_activity</td>\n",
       "      <td>NaN</td>\n",
       "    </tr>\n",
       "    <tr>\n",
       "      <th>2</th>\n",
       "      <td>MLS</td>\n",
       "      <td>NaN</td>\n",
       "      <td>374091-47-1</td>\n",
       "      <td>(E)-3-(3,5-Dibromo-2-hydroxyphenyl)-1-(5-methy...</td>\n",
       "      <td>MLS</td>\n",
       "      <td>NaN</td>\n",
       "      <td>2543</td>\n",
       "      <td>TOX21_msti_p2_activity</td>\n",
       "      <td>5005222</td>\n",
       "      <td>4.641546</td>\n",
       "      <td>100.229026</td>\n",
       "      <td>1</td>\n",
       "      <td>13.924638</td>\n",
       "      <td>percent_activity</td>\n",
       "      <td>NaN</td>\n",
       "    </tr>\n",
       "    <tr>\n",
       "      <th>3</th>\n",
       "      <td>MLS</td>\n",
       "      <td>NaN</td>\n",
       "      <td>374091-47-1</td>\n",
       "      <td>(E)-3-(3,5-Dibromo-2-hydroxyphenyl)-1-(5-methy...</td>\n",
       "      <td>MLS</td>\n",
       "      <td>NaN</td>\n",
       "      <td>3017</td>\n",
       "      <td>TOX21_msti_p3_activity</td>\n",
       "      <td>5024175</td>\n",
       "      <td>6.962048</td>\n",
       "      <td>103.864036</td>\n",
       "      <td>1</td>\n",
       "      <td>20.886145</td>\n",
       "      <td>percent_activity</td>\n",
       "      <td>NaN</td>\n",
       "    </tr>\n",
       "    <tr>\n",
       "      <th>4</th>\n",
       "      <td>Tox21_110005_1</td>\n",
       "      <td>45081.0</td>\n",
       "      <td>2439-07-8</td>\n",
       "      <td>8-Quinolinol salicylic acid (1:1)</td>\n",
       "      <td>DTXSID1045081</td>\n",
       "      <td>C2439078</td>\n",
       "      <td>2543</td>\n",
       "      <td>TOX21_msti_p2_activity</td>\n",
       "      <td>5005859</td>\n",
       "      <td>4.641546</td>\n",
       "      <td>1.058936</td>\n",
       "      <td>0</td>\n",
       "      <td>13.924638</td>\n",
       "      <td>percent_activity</td>\n",
       "      <td>uM</td>\n",
       "    </tr>\n",
       "  </tbody>\n",
       "</table>\n",
       "</div>"
      ],
      "text/plain": [
       "             spid     chid         casn  \\\n",
       "0            DMSO      NaN      67-68-5   \n",
       "1            DMSO      NaN      67-68-5   \n",
       "2             MLS      NaN  374091-47-1   \n",
       "3             MLS      NaN  374091-47-1   \n",
       "4  Tox21_110005_1  45081.0    2439-07-8   \n",
       "\n",
       "                                                chnm dsstox_substance_id  \\\n",
       "0                                 Dimethyl sulfoxide       DTXSID2021735   \n",
       "1                                 Dimethyl sulfoxide       DTXSID2021735   \n",
       "2  (E)-3-(3,5-Dibromo-2-hydroxyphenyl)-1-(5-methy...                 MLS   \n",
       "3  (E)-3-(3,5-Dibromo-2-hydroxyphenyl)-1-(5-methy...                 MLS   \n",
       "4                  8-Quinolinol salicylic acid (1:1)       DTXSID1045081   \n",
       "\n",
       "       code  aeid                    aenm     s2id      bmad     max_med  \\\n",
       "0       NaN  2543  TOX21_msti_p2_activity  5005221  4.641546    0.000000   \n",
       "1       NaN  3017  TOX21_msti_p3_activity  5024176  6.962048    0.000000   \n",
       "2       NaN  2543  TOX21_msti_p2_activity  5005222  4.641546  100.229026   \n",
       "3       NaN  3017  TOX21_msti_p3_activity  5024175  6.962048  103.864036   \n",
       "4  C2439078  2543  TOX21_msti_p2_activity  5005859  4.641546    1.058936   \n",
       "\n",
       "   hitc       coff         resp_unit conc_unit  \n",
       "0     0  13.924638  percent_activity       NaN  \n",
       "1     0  20.886145  percent_activity       NaN  \n",
       "2     1  13.924638  percent_activity       NaN  \n",
       "3     1  20.886145  percent_activity       NaN  \n",
       "4     0  13.924638  percent_activity        uM  "
      ]
     },
     "execution_count": 8,
     "metadata": {},
     "output_type": "execute_result"
    }
   ],
   "source": [
    "sc2.head()"
   ]
  },
  {
   "cell_type": "code",
   "execution_count": 9,
   "metadata": {},
   "outputs": [
    {
     "data": {
      "text/html": [
       "<div>\n",
       "<style scoped>\n",
       "    .dataframe tbody tr th:only-of-type {\n",
       "        vertical-align: middle;\n",
       "    }\n",
       "\n",
       "    .dataframe tbody tr th {\n",
       "        vertical-align: top;\n",
       "    }\n",
       "\n",
       "    .dataframe thead th {\n",
       "        text-align: right;\n",
       "    }\n",
       "</style>\n",
       "<table border=\"1\" class=\"dataframe\">\n",
       "  <thead>\n",
       "    <tr style=\"text-align: right;\">\n",
       "      <th></th>\n",
       "      <th>spid</th>\n",
       "      <th>chid</th>\n",
       "      <th>casn</th>\n",
       "      <th>chnm</th>\n",
       "      <th>dsstox_substance_id</th>\n",
       "      <th>code</th>\n",
       "      <th>aeid</th>\n",
       "      <th>aenm</th>\n",
       "      <th>s2id</th>\n",
       "      <th>bmad</th>\n",
       "      <th>max_med</th>\n",
       "      <th>hitc</th>\n",
       "      <th>coff</th>\n",
       "      <th>resp_unit</th>\n",
       "      <th>conc_unit</th>\n",
       "    </tr>\n",
       "  </thead>\n",
       "  <tbody>\n",
       "    <tr>\n",
       "      <th>0</th>\n",
       "      <td>DMSO</td>\n",
       "      <td>NaN</td>\n",
       "      <td>67-68-5</td>\n",
       "      <td>Dimethyl sulfoxide</td>\n",
       "      <td>DTXSID2021735</td>\n",
       "      <td>NaN</td>\n",
       "      <td>2543</td>\n",
       "      <td>TOX21_msti_p2_activity</td>\n",
       "      <td>5005221</td>\n",
       "      <td>4.641546</td>\n",
       "      <td>0.0</td>\n",
       "      <td>0</td>\n",
       "      <td>13.924638</td>\n",
       "      <td>percent_activity</td>\n",
       "      <td>NaN</td>\n",
       "    </tr>\n",
       "    <tr>\n",
       "      <th>1</th>\n",
       "      <td>DMSO</td>\n",
       "      <td>NaN</td>\n",
       "      <td>67-68-5</td>\n",
       "      <td>Dimethyl sulfoxide</td>\n",
       "      <td>DTXSID2021735</td>\n",
       "      <td>NaN</td>\n",
       "      <td>3017</td>\n",
       "      <td>TOX21_msti_p3_activity</td>\n",
       "      <td>5024176</td>\n",
       "      <td>6.962048</td>\n",
       "      <td>0.0</td>\n",
       "      <td>0</td>\n",
       "      <td>20.886145</td>\n",
       "      <td>percent_activity</td>\n",
       "      <td>NaN</td>\n",
       "    </tr>\n",
       "  </tbody>\n",
       "</table>\n",
       "</div>"
      ],
      "text/plain": [
       "   spid  chid     casn                chnm dsstox_substance_id code  aeid  \\\n",
       "0  DMSO   NaN  67-68-5  Dimethyl sulfoxide       DTXSID2021735  NaN  2543   \n",
       "1  DMSO   NaN  67-68-5  Dimethyl sulfoxide       DTXSID2021735  NaN  3017   \n",
       "\n",
       "                     aenm     s2id      bmad  max_med  hitc       coff  \\\n",
       "0  TOX21_msti_p2_activity  5005221  4.641546      0.0     0  13.924638   \n",
       "1  TOX21_msti_p3_activity  5024176  6.962048      0.0     0  20.886145   \n",
       "\n",
       "          resp_unit conc_unit  \n",
       "0  percent_activity       NaN  \n",
       "1  percent_activity       NaN  "
      ]
     },
     "execution_count": 9,
     "metadata": {},
     "output_type": "execute_result"
    }
   ],
   "source": [
    "sc2[sc2['spid'] == 'DMSO']"
   ]
  },
  {
   "cell_type": "code",
   "execution_count": 10,
   "metadata": {},
   "outputs": [
    {
     "data": {
      "text/html": [
       "<div>\n",
       "<style scoped>\n",
       "    .dataframe tbody tr th:only-of-type {\n",
       "        vertical-align: middle;\n",
       "    }\n",
       "\n",
       "    .dataframe tbody tr th {\n",
       "        vertical-align: top;\n",
       "    }\n",
       "\n",
       "    .dataframe thead th {\n",
       "        text-align: right;\n",
       "    }\n",
       "</style>\n",
       "<table border=\"1\" class=\"dataframe\">\n",
       "  <thead>\n",
       "    <tr style=\"text-align: right;\">\n",
       "      <th></th>\n",
       "      <th>spid</th>\n",
       "      <th>chid</th>\n",
       "      <th>casn</th>\n",
       "      <th>chnm</th>\n",
       "      <th>dsstox_substance_id</th>\n",
       "      <th>code</th>\n",
       "      <th>aeid</th>\n",
       "      <th>aenm</th>\n",
       "      <th>s2id</th>\n",
       "      <th>bmad</th>\n",
       "      <th>max_med</th>\n",
       "      <th>hitc</th>\n",
       "      <th>coff</th>\n",
       "      <th>resp_unit</th>\n",
       "      <th>conc_unit</th>\n",
       "    </tr>\n",
       "  </thead>\n",
       "  <tbody>\n",
       "    <tr>\n",
       "      <th>2</th>\n",
       "      <td>MLS</td>\n",
       "      <td>NaN</td>\n",
       "      <td>374091-47-1</td>\n",
       "      <td>(E)-3-(3,5-Dibromo-2-hydroxyphenyl)-1-(5-methy...</td>\n",
       "      <td>MLS</td>\n",
       "      <td>NaN</td>\n",
       "      <td>2543</td>\n",
       "      <td>TOX21_msti_p2_activity</td>\n",
       "      <td>5005222</td>\n",
       "      <td>4.641546</td>\n",
       "      <td>100.229026</td>\n",
       "      <td>1</td>\n",
       "      <td>13.924638</td>\n",
       "      <td>percent_activity</td>\n",
       "      <td>NaN</td>\n",
       "    </tr>\n",
       "    <tr>\n",
       "      <th>3</th>\n",
       "      <td>MLS</td>\n",
       "      <td>NaN</td>\n",
       "      <td>374091-47-1</td>\n",
       "      <td>(E)-3-(3,5-Dibromo-2-hydroxyphenyl)-1-(5-methy...</td>\n",
       "      <td>MLS</td>\n",
       "      <td>NaN</td>\n",
       "      <td>3017</td>\n",
       "      <td>TOX21_msti_p3_activity</td>\n",
       "      <td>5024175</td>\n",
       "      <td>6.962048</td>\n",
       "      <td>103.864036</td>\n",
       "      <td>1</td>\n",
       "      <td>20.886145</td>\n",
       "      <td>percent_activity</td>\n",
       "      <td>NaN</td>\n",
       "    </tr>\n",
       "  </tbody>\n",
       "</table>\n",
       "</div>"
      ],
      "text/plain": [
       "  spid  chid         casn                                               chnm  \\\n",
       "2  MLS   NaN  374091-47-1  (E)-3-(3,5-Dibromo-2-hydroxyphenyl)-1-(5-methy...   \n",
       "3  MLS   NaN  374091-47-1  (E)-3-(3,5-Dibromo-2-hydroxyphenyl)-1-(5-methy...   \n",
       "\n",
       "  dsstox_substance_id code  aeid                    aenm     s2id      bmad  \\\n",
       "2                 MLS  NaN  2543  TOX21_msti_p2_activity  5005222  4.641546   \n",
       "3                 MLS  NaN  3017  TOX21_msti_p3_activity  5024175  6.962048   \n",
       "\n",
       "      max_med  hitc       coff         resp_unit conc_unit  \n",
       "2  100.229026     1  13.924638  percent_activity       NaN  \n",
       "3  103.864036     1  20.886145  percent_activity       NaN  "
      ]
     },
     "execution_count": 10,
     "metadata": {},
     "output_type": "execute_result"
    }
   ],
   "source": [
    "sc2[sc2['spid'] == 'MLS']"
   ]
  },
  {
   "cell_type": "code",
   "execution_count": 11,
   "metadata": {},
   "outputs": [],
   "source": [
    "sc2_p2 = sc2[sc2['aenm'] == 'TOX21_msti_p2_activity']"
   ]
  },
  {
   "cell_type": "code",
   "execution_count": 12,
   "metadata": {},
   "outputs": [
    {
     "data": {
      "text/plain": [
       "9669"
      ]
     },
     "execution_count": 12,
     "metadata": {},
     "output_type": "execute_result"
    }
   ],
   "source": [
    "sc2_p2.spid.nunique()"
   ]
  },
  {
   "cell_type": "markdown",
   "metadata": {},
   "source": [
    "#### What does the hitcall look like for the msti data p2"
   ]
  },
  {
   "cell_type": "code",
   "execution_count": 13,
   "metadata": {},
   "outputs": [
    {
     "data": {
      "text/plain": [
       "0    0.722027\n",
       "1    0.277973\n",
       "Name: hitc, dtype: float64"
      ]
     },
     "execution_count": 13,
     "metadata": {},
     "output_type": "execute_result"
    }
   ],
   "source": [
    "sc2_p2.hitc.value_counts(normalize = True)"
   ]
  },
  {
   "cell_type": "code",
   "execution_count": 14,
   "metadata": {},
   "outputs": [
    {
     "data": {
      "text/plain": [
       "0    6982\n",
       "1    2688\n",
       "Name: hitc, dtype: int64"
      ]
     },
     "execution_count": 14,
     "metadata": {},
     "output_type": "execute_result"
    }
   ],
   "source": [
    "sc2_p2.hitc.value_counts(normalize = False)"
   ]
  },
  {
   "cell_type": "code",
   "execution_count": 15,
   "metadata": {},
   "outputs": [
    {
     "data": {
      "text/plain": [
       "<AxesSubplot:ylabel='Frequency'>"
      ]
     },
     "execution_count": 15,
     "metadata": {},
     "output_type": "execute_result"
    },
    {
     "data": {
      "image/png": "[encoded data removed]",
      "text/plain": [
       "<Figure size 640x480 with 1 Axes>"
      ]
     },
     "metadata": {},
     "output_type": "display_data"
    }
   ],
   "source": [
    "sc2_p2['max_med'].plot(kind = 'hist', bins = 15)"
   ]
  },
  {
   "cell_type": "code",
   "execution_count": 23,
   "metadata": {},
   "outputs": [
    {
     "data": {
      "image/png": "[encoded data removed]",
      "text/plain": [
       "<Figure size 1500x900 with 2 Axes>"
      ]
     },
     "metadata": {},
     "output_type": "display_data"
    }
   ],
   "source": [
    "\n",
    "fig = plt.figure(figsize = (15,9))\n",
    "ax = fig.add_subplot(221)\n",
    "sc2_p2.hitc.value_counts(normalize = True).plot.bar()\n",
    "plt.ylabel('Fraction of samples tested', fontsize = 15)\n",
    "plt.xlabel('assay outcome', fontsize = 15)\n",
    "plt.xticks(rotation = 360, fontsize = 15)\n",
    "plt.title('(a)')\n",
    "labels = [item.get_text() for item in ax.get_xticklabels()]\n",
    "\n",
    "labels[0] = 'inactive'\n",
    "labels[1] = 'active'\n",
    "ax.set_xticklabels(labels)\n",
    "\n",
    "ax = fig.add_subplot(222)\n",
    "sc2_p2['max_med'].plot(kind = 'hist',bins = 20)\n",
    "plt.ylabel('Number of samples', fontsize = 15)\n",
    "plt.xlabel('Maximum median response value ', fontsize = 15)\n",
    "plt.title('(b)')\n",
    "plt.axvline(x=14, color = 'r')\n",
    "plt.savefig(figures_dir+'Figure1.png', dpi = 300);"
   ]
  },
  {
   "cell_type": "code",
   "execution_count": null,
   "metadata": {},
   "outputs": [],
   "source": []
  },
  {
   "cell_type": "code",
   "execution_count": null,
   "metadata": {},
   "outputs": [],
   "source": []
  }
 ],
 "metadata": {
  "kernelspec": {
   "display_name": "aim_clone",
   "language": "python",
   "name": "aim_clone"
  },
  "language_info": {
   "codemirror_mode": {
    "name": "ipython",
    "version": 3
   },
   "file_extension": ".py",
   "mimetype": "text/x-python",
   "name": "python",
   "nbconvert_exporter": "python",
   "pygments_lexer": "ipython3",
   "version": "3.8.13"
  }
 },
 "nbformat": 4,
 "nbformat_minor": 4
}
