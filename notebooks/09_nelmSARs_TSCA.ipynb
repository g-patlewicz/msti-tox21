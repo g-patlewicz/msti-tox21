{
 "cells": [
  {
   "cell_type": "markdown",
   "metadata": {},
   "source": [
    "#### Comparison of Rxn alerts with RFC predictions for TSCA set"
   ]
  },
  {
   "cell_type": "markdown",
   "metadata": {},
   "source": [
    "Prepared by: Grace Patlewicz <br>\n",
    "Last modified: 30 January 2023 <br>\n",
    "Changes: Comparing predictions from the alerts used in Nelms et al (2019) with the predictions made by the RFC for the TSCA set"
   ]
  },
  {
   "cell_type": "code",
   "execution_count": 1,
   "metadata": {},
   "outputs": [],
   "source": [
    "import os\n"
   ]
  },
  {
   "cell_type": "code",
   "execution_count": 2,
   "metadata": {},
   "outputs": [],
   "source": [
    "import pandas as pd\n",
    "import numpy as np\n",
    "from rdkit import Chem\n",
    "from rdkit.Chem import AllChem\n",
    "from rdkit.Chem import Draw\n",
    "from rdkit.Chem.Draw import IPythonConsole\n",
    "import openpyxl"
   ]
  },
  {
   "cell_type": "code",
   "execution_count": 3,
   "metadata": {},
   "outputs": [],
   "source": [
    "import matplotlib.pyplot as plt\n",
    "import seaborn as sns\n",
    "%matplotlib inline"
   ]
  },
  {
   "cell_type": "code",
   "execution_count": 4,
   "metadata": {},
   "outputs": [],
   "source": [
    "TOP = os.getcwd().replace('notebooks', '')\n",
    "raw_dir = TOP + 'data/raw/'\n",
    "processed_dir = TOP + 'data/processed/'\n",
    "interim_dir = TOP + 'data/interim/'\n",
    "external_dir = TOP + 'data/external/'\n",
    "figures_dir = TOP + 'reports/figures/'\n"
   ]
  },
  {
   "cell_type": "code",
   "execution_count": 6,
   "metadata": {},
   "outputs": [],
   "source": [
    "df = pd.read_csv(external_dir+'rxn_domains.csv')"
   ]
  },
  {
   "cell_type": "code",
   "execution_count": 7,
   "metadata": {},
   "outputs": [
    {
     "data": {
      "text/html": [
       "<div>\n",
       "<style scoped>\n",
       "    .dataframe tbody tr th:only-of-type {\n",
       "        vertical-align: middle;\n",
       "    }\n",
       "\n",
       "    .dataframe tbody tr th {\n",
       "        vertical-align: top;\n",
       "    }\n",
       "\n",
       "    .dataframe thead th {\n",
       "        text-align: right;\n",
       "    }\n",
       "</style>\n",
       "<table border=\"1\" class=\"dataframe\">\n",
       "  <thead>\n",
       "    <tr style=\"text-align: right;\">\n",
       "      <th></th>\n",
       "      <th>#</th>\n",
       "      <th>Mech_Domain</th>\n",
       "      <th>Alert</th>\n",
       "      <th>SMARTS_pattern</th>\n",
       "    </tr>\n",
       "  </thead>\n",
       "  <tbody>\n",
       "    <tr>\n",
       "      <th>11</th>\n",
       "      <td>2</td>\n",
       "      <td>MA</td>\n",
       "      <td>Michael Acceptor</td>\n",
       "      <td>[CX3!H0]=[#6]-[#6]=O</td>\n",
       "    </tr>\n",
       "    <tr>\n",
       "      <th>12</th>\n",
       "      <td>2</td>\n",
       "      <td>MA</td>\n",
       "      <td>Michael Acceptor</td>\n",
       "      <td>[$([#7]=[#6]-1-[#6]=[#6!H0]-[#6](=[#7])-[#6]=[...</td>\n",
       "    </tr>\n",
       "    <tr>\n",
       "      <th>13</th>\n",
       "      <td>2</td>\n",
       "      <td>MA</td>\n",
       "      <td>Michael Acceptor</td>\n",
       "      <td>[C!H0]=[C]-[#6]=O</td>\n",
       "    </tr>\n",
       "    <tr>\n",
       "      <th>14</th>\n",
       "      <td>2</td>\n",
       "      <td>MA</td>\n",
       "      <td>Michael Acceptor</td>\n",
       "      <td>[CX3!H0]=[#6]C#N</td>\n",
       "    </tr>\n",
       "    <tr>\n",
       "      <th>15</th>\n",
       "      <td>2</td>\n",
       "      <td>MA</td>\n",
       "      <td>Michael Acceptor</td>\n",
       "      <td>[CX3!H0]=[#6]-[NX3](=O)(=O)</td>\n",
       "    </tr>\n",
       "    <tr>\n",
       "      <th>16</th>\n",
       "      <td>2</td>\n",
       "      <td>MA</td>\n",
       "      <td>Michael Acceptor</td>\n",
       "      <td>[#8-]-[#7+](=O)-[#6]=[CX3!H0]</td>\n",
       "    </tr>\n",
       "    <tr>\n",
       "      <th>17</th>\n",
       "      <td>2</td>\n",
       "      <td>MA</td>\n",
       "      <td>Michael Acceptor</td>\n",
       "      <td>[CX3!H0]=[#6]-[#6]-[NX3+](=O)[O-]</td>\n",
       "    </tr>\n",
       "    <tr>\n",
       "      <th>18</th>\n",
       "      <td>2</td>\n",
       "      <td>MA</td>\n",
       "      <td>Michael Acceptor</td>\n",
       "      <td>[$(O=[#6]-1-[#6!H0]=[#6]-1),$(O=[#6]-1-[#6]=[#...</td>\n",
       "    </tr>\n",
       "    <tr>\n",
       "      <th>19</th>\n",
       "      <td>2</td>\n",
       "      <td>MA</td>\n",
       "      <td>Michael Acceptor</td>\n",
       "      <td>[$([#6;A][#6,O]-[#6](=O)C#[#6!H0]),$(O=[#6]C#[...</td>\n",
       "    </tr>\n",
       "    <tr>\n",
       "      <th>20</th>\n",
       "      <td>2</td>\n",
       "      <td>MA</td>\n",
       "      <td>Michael Acceptor</td>\n",
       "      <td>[$([#6!H0]=[#6]-[#6]-1=[#6]-[#6]=[#6]-[#6]=[#7...</td>\n",
       "    </tr>\n",
       "    <tr>\n",
       "      <th>21</th>\n",
       "      <td>2</td>\n",
       "      <td>MA</td>\n",
       "      <td>Michael Acceptor</td>\n",
       "      <td>[$([#6]-[#6](-[#6]=[#6!H0])=N([#8])=O),$([#8]N...</td>\n",
       "    </tr>\n",
       "    <tr>\n",
       "      <th>22</th>\n",
       "      <td>2</td>\n",
       "      <td>MA</td>\n",
       "      <td>Michael Acceptor</td>\n",
       "      <td>[#6]\\[#6!H0]=[#6]/[#6]=O</td>\n",
       "    </tr>\n",
       "    <tr>\n",
       "      <th>23</th>\n",
       "      <td>2</td>\n",
       "      <td>MA</td>\n",
       "      <td>Michael Acceptor</td>\n",
       "      <td>O=[#6]-1-[#7]-[#6](=O)-[#6!H0]=[#6]-1</td>\n",
       "    </tr>\n",
       "    <tr>\n",
       "      <th>24</th>\n",
       "      <td>2</td>\n",
       "      <td>MA</td>\n",
       "      <td>Michael Acceptor</td>\n",
       "      <td>[$(O=[#6]-1-[#8]-c2ccccc2-[CX2!H0]=[#6]-1),$(O...</td>\n",
       "    </tr>\n",
       "    <tr>\n",
       "      <th>25</th>\n",
       "      <td>2</td>\n",
       "      <td>MA</td>\n",
       "      <td>Michael Acceptor</td>\n",
       "      <td>[#6](=O)C#C[#6]</td>\n",
       "    </tr>\n",
       "    <tr>\n",
       "      <th>26</th>\n",
       "      <td>2</td>\n",
       "      <td>MA</td>\n",
       "      <td>Michael Acceptor</td>\n",
       "      <td>[CX3!H0]=[#6]-[#6]=O</td>\n",
       "    </tr>\n",
       "    <tr>\n",
       "      <th>27</th>\n",
       "      <td>2</td>\n",
       "      <td>MA</td>\n",
       "      <td>Michael Acceptor</td>\n",
       "      <td>[#6]S(=O)(=O)[#6]=[CX3!H0]</td>\n",
       "    </tr>\n",
       "    <tr>\n",
       "      <th>28</th>\n",
       "      <td>2</td>\n",
       "      <td>MA</td>\n",
       "      <td>Michael Acceptor</td>\n",
       "      <td>[$([CX3!H0]=[#6]-c1ccncc1),$([CX3!H0]=[C]c1ccc...</td>\n",
       "    </tr>\n",
       "    <tr>\n",
       "      <th>29</th>\n",
       "      <td>2</td>\n",
       "      <td>MA</td>\n",
       "      <td>Michael Acceptor</td>\n",
       "      <td>[$(O=[#6]-1-[#6]=[#6!H0]-[#6](=O)-[#6]=[#6]-1)...</td>\n",
       "    </tr>\n",
       "    <tr>\n",
       "      <th>30</th>\n",
       "      <td>2</td>\n",
       "      <td>MA</td>\n",
       "      <td>Michael Acceptor</td>\n",
       "      <td>[$(O=[#6]-1-[#8]-[#6]-[#6]=[#6]-1),$(O=[#6]-1-...</td>\n",
       "    </tr>\n",
       "  </tbody>\n",
       "</table>\n",
       "</div>"
      ],
      "text/plain": [
       "    # Mech_Domain             Alert  \\\n",
       "11  2          MA  Michael Acceptor   \n",
       "12  2          MA  Michael Acceptor   \n",
       "13  2          MA  Michael Acceptor   \n",
       "14  2          MA  Michael Acceptor   \n",
       "15  2          MA  Michael Acceptor   \n",
       "16  2          MA  Michael Acceptor   \n",
       "17  2          MA  Michael Acceptor   \n",
       "18  2          MA  Michael Acceptor   \n",
       "19  2          MA  Michael Acceptor   \n",
       "20  2          MA  Michael Acceptor   \n",
       "21  2          MA  Michael Acceptor   \n",
       "22  2          MA  Michael Acceptor   \n",
       "23  2          MA  Michael Acceptor   \n",
       "24  2          MA  Michael Acceptor   \n",
       "25  2          MA  Michael Acceptor   \n",
       "26  2          MA  Michael Acceptor   \n",
       "27  2          MA  Michael Acceptor   \n",
       "28  2          MA  Michael Acceptor   \n",
       "29  2          MA  Michael Acceptor   \n",
       "30  2          MA  Michael Acceptor   \n",
       "\n",
       "                                       SMARTS_pattern  \n",
       "11                               [CX3!H0]=[#6]-[#6]=O  \n",
       "12  [$([#7]=[#6]-1-[#6]=[#6!H0]-[#6](=[#7])-[#6]=[...  \n",
       "13                                  [C!H0]=[C]-[#6]=O  \n",
       "14                                   [CX3!H0]=[#6]C#N  \n",
       "15                        [CX3!H0]=[#6]-[NX3](=O)(=O)  \n",
       "16                      [#8-]-[#7+](=O)-[#6]=[CX3!H0]  \n",
       "17                  [CX3!H0]=[#6]-[#6]-[NX3+](=O)[O-]  \n",
       "18  [$(O=[#6]-1-[#6!H0]=[#6]-1),$(O=[#6]-1-[#6]=[#...  \n",
       "19  [$([#6;A][#6,O]-[#6](=O)C#[#6!H0]),$(O=[#6]C#[...  \n",
       "20  [$([#6!H0]=[#6]-[#6]-1=[#6]-[#6]=[#6]-[#6]=[#7...  \n",
       "21  [$([#6]-[#6](-[#6]=[#6!H0])=N([#8])=O),$([#8]N...  \n",
       "22                           [#6]\\[#6!H0]=[#6]/[#6]=O  \n",
       "23              O=[#6]-1-[#7]-[#6](=O)-[#6!H0]=[#6]-1  \n",
       "24  [$(O=[#6]-1-[#8]-c2ccccc2-[CX2!H0]=[#6]-1),$(O...  \n",
       "25                                    [#6](=O)C#C[#6]  \n",
       "26                               [CX3!H0]=[#6]-[#6]=O  \n",
       "27                         [#6]S(=O)(=O)[#6]=[CX3!H0]  \n",
       "28  [$([CX3!H0]=[#6]-c1ccncc1),$([CX3!H0]=[C]c1ccc...  \n",
       "29  [$(O=[#6]-1-[#6]=[#6!H0]-[#6](=O)-[#6]=[#6]-1)...  \n",
       "30  [$(O=[#6]-1-[#8]-[#6]-[#6]=[#6]-1),$(O=[#6]-1-...  "
      ]
     },
     "execution_count": 7,
     "metadata": {},
     "output_type": "execute_result"
    }
   ],
   "source": [
    "df[df['Mech_Domain'] == 'MA']"
   ]
  },
  {
   "cell_type": "code",
   "execution_count": 8,
   "metadata": {},
   "outputs": [],
   "source": [
    "df = df.set_index('#')"
   ]
  },
  {
   "cell_type": "code",
   "execution_count": 9,
   "metadata": {},
   "outputs": [],
   "source": [
    "def grouper(index):\n",
    "    floatindex = float(index)\n",
    "    intindex = int(floatindex)        \n",
    "    return intindex"
   ]
  },
  {
   "cell_type": "code",
   "execution_count": 10,
   "metadata": {},
   "outputs": [],
   "source": [
    "smarts_df = df.groupby(grouper)"
   ]
  },
  {
   "cell_type": "code",
   "execution_count": 11,
   "metadata": {},
   "outputs": [],
   "source": [
    "mech_dict = {}\n",
    "for i,group in smarts_df:\n",
    "    key = [name for name in group['Mech_Domain'] if name!=' '][0]\n",
    "    value = set(group['SMARTS_pattern'])\n",
    "    mech_dict[key]=value"
   ]
  },
  {
   "cell_type": "code",
   "execution_count": 12,
   "metadata": {},
   "outputs": [],
   "source": [
    "Dow_smarts = {k : [Chem.MolFromSmarts(s) for s in v] for k,v in mech_dict.items()}"
   ]
  },
  {
   "cell_type": "code",
   "execution_count": 14,
   "metadata": {},
   "outputs": [],
   "source": [
    "#RDkit smarts for the set of reactivity alerts published by Dow. Dictionary of the smarts patterns\n",
    "#Dow_smarts['MA']"
   ]
  },
  {
   "cell_type": "code",
   "execution_count": 15,
   "metadata": {},
   "outputs": [],
   "source": [
    "enoch = pd.read_csv(external_dir+'Enoch.csv')"
   ]
  },
  {
   "cell_type": "code",
   "execution_count": 16,
   "metadata": {},
   "outputs": [
    {
     "data": {
      "text/html": [
       "<div>\n",
       "<style scoped>\n",
       "    .dataframe tbody tr th:only-of-type {\n",
       "        vertical-align: middle;\n",
       "    }\n",
       "\n",
       "    .dataframe tbody tr th {\n",
       "        vertical-align: top;\n",
       "    }\n",
       "\n",
       "    .dataframe thead th {\n",
       "        text-align: right;\n",
       "    }\n",
       "</style>\n",
       "<table border=\"1\" class=\"dataframe\">\n",
       "  <thead>\n",
       "    <tr style=\"text-align: right;\">\n",
       "      <th></th>\n",
       "      <th>#</th>\n",
       "      <th>Mech</th>\n",
       "      <th>SMARTS</th>\n",
       "    </tr>\n",
       "  </thead>\n",
       "  <tbody>\n",
       "    <tr>\n",
       "      <th>0</th>\n",
       "      <td>1</td>\n",
       "      <td>SNAR</td>\n",
       "      <td>c1([F,Cl,Br,I,$(N(=O)~O)])c([F,Cl,Br,I,$(N(=O)...</td>\n",
       "    </tr>\n",
       "    <tr>\n",
       "      <th>1</th>\n",
       "      <td>1</td>\n",
       "      <td>SNAR</td>\n",
       "      <td>c1([F,Cl,Br,I,$(N(=O)~O)])c([F,Cl,Br,I,$(N(=O)...</td>\n",
       "    </tr>\n",
       "    <tr>\n",
       "      <th>2</th>\n",
       "      <td>1</td>\n",
       "      <td>SNAR</td>\n",
       "      <td>c1([F,Cl,Br,I,$(N(=O)~O)])ncc([F,Cl,Br,I,$(N(=...</td>\n",
       "    </tr>\n",
       "    <tr>\n",
       "      <th>3</th>\n",
       "      <td>1</td>\n",
       "      <td>SNAR</td>\n",
       "      <td>c1([F,Cl,Br,I,$(N(=O)~O)])ncccc1([F,Cl,Br,I,$(...</td>\n",
       "    </tr>\n",
       "    <tr>\n",
       "      <th>4</th>\n",
       "      <td>1</td>\n",
       "      <td>SNAR</td>\n",
       "      <td>c1([F,Cl,Br,I,$(N(=O)~O)])ncccn1</td>\n",
       "    </tr>\n",
       "  </tbody>\n",
       "</table>\n",
       "</div>"
      ],
      "text/plain": [
       "   #  Mech                                             SMARTS\n",
       "0  1  SNAR  c1([F,Cl,Br,I,$(N(=O)~O)])c([F,Cl,Br,I,$(N(=O)...\n",
       "1  1  SNAR  c1([F,Cl,Br,I,$(N(=O)~O)])c([F,Cl,Br,I,$(N(=O)...\n",
       "2  1  SNAR  c1([F,Cl,Br,I,$(N(=O)~O)])ncc([F,Cl,Br,I,$(N(=...\n",
       "3  1  SNAR  c1([F,Cl,Br,I,$(N(=O)~O)])ncccc1([F,Cl,Br,I,$(...\n",
       "4  1  SNAR                   c1([F,Cl,Br,I,$(N(=O)~O)])ncccn1"
      ]
     },
     "execution_count": 16,
     "metadata": {},
     "output_type": "execute_result"
    }
   ],
   "source": [
    "enoch.head()"
   ]
  },
  {
   "cell_type": "code",
   "execution_count": 17,
   "metadata": {},
   "outputs": [],
   "source": [
    "enoch_df = enoch.set_index('#')"
   ]
  },
  {
   "cell_type": "code",
   "execution_count": 18,
   "metadata": {},
   "outputs": [],
   "source": [
    "enoch_df = enoch_df.groupby(grouper)"
   ]
  },
  {
   "cell_type": "code",
   "execution_count": 19,
   "metadata": {},
   "outputs": [],
   "source": [
    "enoch_dict = {}\n",
    "for i,group in enoch_df:\n",
    "    key = [name for name in group['Mech'] if name!=' '][0]\n",
    "    value = set(group['SMARTS'])\n",
    "    enoch_dict[key]=value"
   ]
  },
  {
   "cell_type": "code",
   "execution_count": 20,
   "metadata": {},
   "outputs": [],
   "source": [
    "enoch_smarts = {k : [Chem.MolFromSmarts(s) for s in v] for k,v in enoch_dict.items()}"
   ]
  },
  {
   "cell_type": "code",
   "execution_count": 21,
   "metadata": {},
   "outputs": [
    {
     "data": {
      "text/plain": [
       "{'SNAR': 8, 'SB': 14, 'MA': 26, 'Acyl': 9, 'SN2': 9}"
      ]
     },
     "execution_count": 21,
     "metadata": {},
     "output_type": "execute_result"
    }
   ],
   "source": [
    "{k:len(v) for k,v in enoch_dict.items()}"
   ]
  },
  {
   "cell_type": "code",
   "execution_count": 22,
   "metadata": {},
   "outputs": [
    {
     "data": {
      "text/plain": [
       "{'Acyl': 11, 'MA': 19, 'SNAR': 14, 'SB': 4, 'SN2': 23}"
      ]
     },
     "execution_count": 22,
     "metadata": {},
     "output_type": "execute_result"
    }
   ],
   "source": [
    "{k:len(v) for k,v in mech_dict.items()}"
   ]
  },
  {
   "cell_type": "code",
   "execution_count": 23,
   "metadata": {},
   "outputs": [],
   "source": [
    "enoch_crt = pd.read_csv(external_dir+'Enoch_CRT.csv')"
   ]
  },
  {
   "cell_type": "code",
   "execution_count": 24,
   "metadata": {},
   "outputs": [],
   "source": [
    "enoch_crt_df = enoch_crt.set_index('#')"
   ]
  },
  {
   "cell_type": "code",
   "execution_count": 25,
   "metadata": {},
   "outputs": [],
   "source": [
    "enoch_crt = enoch_crt_df.groupby(grouper)"
   ]
  },
  {
   "cell_type": "code",
   "execution_count": 26,
   "metadata": {},
   "outputs": [],
   "source": [
    "crt_dict = {}\n",
    "for i,group in enoch_crt:\n",
    "    key = [name for name in group['Mech'] if name!=' '][0]\n",
    "    value = set(group['SMARTS'])\n",
    "    crt_dict[key]=value"
   ]
  },
  {
   "cell_type": "code",
   "execution_count": 27,
   "metadata": {},
   "outputs": [],
   "source": [
    "oecd_smarts = {k : [Chem.MolFromSmarts(s) for s in v] for k,v in crt_dict.items()}"
   ]
  },
  {
   "cell_type": "code",
   "execution_count": 28,
   "metadata": {},
   "outputs": [],
   "source": [
    "crt_len = {k:len(v) for k,v in crt_dict.items()}"
   ]
  },
  {
   "cell_type": "code",
   "execution_count": 29,
   "metadata": {},
   "outputs": [
    {
     "data": {
      "text/plain": [
       "{'Acyl': 17, 'MA': 34, 'SB': 11, 'SN2': 39, 'SNAr': 1}"
      ]
     },
     "execution_count": 29,
     "metadata": {},
     "output_type": "execute_result"
    }
   ],
   "source": [
    "crt_len"
   ]
  },
  {
   "cell_type": "code",
   "execution_count": 30,
   "metadata": {},
   "outputs": [],
   "source": [
    "enoch_len = {k:len(v) for k,v in enoch_dict.items()}\n",
    "dow_len = {k:len(v) for k,v in mech_dict.items()}"
   ]
  },
  {
   "cell_type": "code",
   "execution_count": 31,
   "metadata": {},
   "outputs": [
    {
     "name": "stdout",
     "output_type": "stream",
     "text": [
      "102\n",
      "66\n",
      "71\n"
     ]
    }
   ],
   "source": [
    "print(sum([e for e in crt_len.values()]))\n",
    "\n",
    "print(sum([e for e in enoch_len.values()]))\n",
    "print(sum([e for e in dow_len.values()]))"
   ]
  },
  {
   "cell_type": "code",
   "execution_count": 34,
   "metadata": {},
   "outputs": [],
   "source": [
    "tsca_smi = pd.read_csv(raw_dir+'Chemical List TSCA_ACTIVE_NCTI_0320-2022-06-02.txt', sep = '\\t', header = None)"
   ]
  },
  {
   "cell_type": "code",
   "execution_count": 36,
   "metadata": {},
   "outputs": [],
   "source": [
    "tsca_smi.columns = ['smiles', 'dtxsid']"
   ]
  },
  {
   "cell_type": "code",
   "execution_count": 37,
   "metadata": {},
   "outputs": [
    {
     "data": {
      "text/plain": [
       "14365"
      ]
     },
     "execution_count": 37,
     "metadata": {},
     "output_type": "execute_result"
    }
   ],
   "source": [
    "len(tsca_smi)"
   ]
  },
  {
   "cell_type": "code",
   "execution_count": 48,
   "metadata": {},
   "outputs": [],
   "source": [
    "tsca_smi = tsca_smi[tsca_smi['smiles'].notnull()]"
   ]
  },
  {
   "cell_type": "code",
   "execution_count": 49,
   "metadata": {},
   "outputs": [],
   "source": [
    "#Dictionary of the jrc chemicals\n",
    "tsca_dict = { k:v for (k,v) in zip(tsca_smi['dtxsid'], tsca_smi['smiles'])}"
   ]
  },
  {
   "cell_type": "code",
   "execution_count": 51,
   "metadata": {},
   "outputs": [],
   "source": [
    "#tsca_dict"
   ]
  },
  {
   "cell_type": "code",
   "execution_count": 52,
   "metadata": {},
   "outputs": [
    {
     "name": "stderr",
     "output_type": "stream",
     "text": [
      "RDKit ERROR: [08:49:14] Explicit valence for atom # 1 C, 6, is greater than permitted\n",
      "RDKit ERROR: [08:49:14] Explicit valence for atom # 2 O, 3, is greater than permitted\n",
      "RDKit ERROR: [08:49:14] Can't kekulize mol.  Unkekulized atoms: 1 2 3 4 5\n",
      "RDKit ERROR: \n",
      "RDKit ERROR: [08:49:14] Explicit valence for atom # 8 O, 3, is greater than permitted\n",
      "RDKit ERROR: [08:49:14] Explicit valence for atom # 0 O, 3, is greater than permitted\n",
      "RDKit ERROR: [08:49:14] Explicit valence for atom # 2 O, 3, is greater than permitted\n",
      "RDKit ERROR: [08:49:14] Explicit valence for atom # 1 Cl, 7, is greater than permitted\n",
      "RDKit ERROR: [08:49:14] Explicit valence for atom # 2 O, 3, is greater than permitted\n",
      "RDKit ERROR: [08:49:14] Explicit valence for atom # 4 C, 5, is greater than permitted\n",
      "RDKit ERROR: [08:49:14] Explicit valence for atom # 3 C, 5, is greater than permitted\n",
      "RDKit ERROR: [08:49:14] Can't kekulize mol.  Unkekulized atoms: 1 2 3 4 5\n",
      "RDKit ERROR: \n",
      "RDKit ERROR: [08:49:14] Explicit valence for atom # 1 Br, 3, is greater than permitted\n",
      "RDKit ERROR: [08:49:14] Explicit valence for atom # 8 O, 3, is greater than permitted\n",
      "RDKit ERROR: [08:49:14] Explicit valence for atom # 5 O, 3, is greater than permitted\n",
      "RDKit ERROR: [08:49:14] Explicit valence for atom # 1 N, 4, is greater than permitted\n",
      "RDKit ERROR: [08:49:14] Explicit valence for atom # 0 B, 5, is greater than permitted\n",
      "RDKit ERROR: [08:49:14] Explicit valence for atom # 0 O, 3, is greater than permitted\n",
      "RDKit ERROR: [08:49:14] Explicit valence for atom # 3 O, 3, is greater than permitted\n",
      "RDKit ERROR: [08:49:14] Explicit valence for atom # 0 O, 3, is greater than permitted\n",
      "RDKit ERROR: [08:49:14] Explicit valence for atom # 3 O, 3, is greater than permitted\n",
      "RDKit ERROR: [08:49:14] Explicit valence for atom # 2 O, 3, is greater than permitted\n",
      "RDKit ERROR: [08:49:14] Explicit valence for atom # 2 B, 7, is greater than permitted\n",
      "RDKit ERROR: [08:49:14] Explicit valence for atom # 2 O, 3, is greater than permitted\n",
      "RDKit ERROR: [08:49:14] Explicit valence for atom # 31 N, 4, is greater than permitted\n",
      "RDKit ERROR: [08:49:15] Explicit valence for atom # 10 N, 4, is greater than permitted\n",
      "RDKit ERROR: [08:49:15] Explicit valence for atom # 0 C, 5, is greater than permitted\n",
      "RDKit ERROR: [08:49:15] Explicit valence for atom # 14 Cl, 2, is greater than permitted\n",
      "RDKit ERROR: [08:49:15] Explicit valence for atom # 0 B, 4, is greater than permitted\n",
      "RDKit ERROR: [08:49:15] Explicit valence for atom # 0 O, 3, is greater than permitted\n",
      "RDKit ERROR: [08:49:15] Explicit valence for atom # 1 Cl, 3, is greater than permitted\n",
      "RDKit ERROR: [08:49:15] Explicit valence for atom # 1 O, 3, is greater than permitted\n",
      "RDKit ERROR: [08:49:15] Explicit valence for atom # 4 O, 3, is greater than permitted\n",
      "RDKit ERROR: [08:49:15] Explicit valence for atom # 2 O, 3, is greater than permitted\n",
      "RDKit ERROR: [08:49:15] Explicit valence for atom # 0 O, 3, is greater than permitted\n",
      "RDKit ERROR: [08:49:15] Explicit valence for atom # 1 Si, 18, is greater than permitted\n",
      "RDKit ERROR: [08:49:15] Explicit valence for atom # 3 O, 3, is greater than permitted\n",
      "RDKit ERROR: [08:49:15] Explicit valence for atom # 1 Si, 12, is greater than permitted\n",
      "RDKit ERROR: [08:49:15] Explicit valence for atom # 1 Mg, 6, is greater than permitted\n",
      "RDKit ERROR: [08:49:15] Explicit valence for atom # 0 O, 3, is greater than permitted\n",
      "RDKit ERROR: [08:49:15] Explicit valence for atom # 8 N, 4, is greater than permitted\n",
      "RDKit ERROR: [08:49:15] Explicit valence for atom # 0 B, 6, is greater than permitted\n",
      "RDKit ERROR: [08:49:15] Explicit valence for atom # 4 C, 5, is greater than permitted\n",
      "RDKit ERROR: [08:49:15] Explicit valence for atom # 4 O, 3, is greater than permitted\n",
      "RDKit ERROR: [08:49:15] Explicit valence for atom # 4 Sn, 6, is greater than permitted\n",
      "RDKit ERROR: [08:49:15] Explicit valence for atom # 8 O, 3, is greater than permitted\n",
      "RDKit ERROR: [08:49:15] Explicit valence for atom # 3 O, 3, is greater than permitted\n",
      "RDKit ERROR: [08:49:15] Can't kekulize mol.  Unkekulized atoms: 1 2 3 4 5\n",
      "RDKit ERROR: \n",
      "RDKit ERROR: [08:49:15] Explicit valence for atom # 1 Ca, 18, is greater than permitted\n",
      "RDKit ERROR: [08:49:15] Can't kekulize mol.  Unkekulized atoms: 1 2 3 4 5\n",
      "RDKit ERROR: \n",
      "RDKit ERROR: [08:49:15] Can't kekulize mol.  Unkekulized atoms: 1 2 3 4 5\n",
      "RDKit ERROR: \n",
      "RDKit ERROR: [08:49:15] Explicit valence for atom # 9 N, 4, is greater than permitted\n",
      "RDKit ERROR: [08:49:15] Explicit valence for atom # 4 N, 4, is greater than permitted\n",
      "RDKit ERROR: [08:49:15] Explicit valence for atom # 0 O, 3, is greater than permitted\n",
      "RDKit ERROR: [08:49:15] Explicit valence for atom # 0 O, 3, is greater than permitted\n",
      "RDKit ERROR: [08:49:15] Explicit valence for atom # 0 O, 3, is greater than permitted\n",
      "RDKit ERROR: [08:49:15] Explicit valence for atom # 0 O, 4, is greater than permitted\n",
      "RDKit ERROR: [08:49:15] Can't kekulize mol.  Unkekulized atoms: 1 2 3 4 5\n",
      "RDKit ERROR: \n",
      "RDKit ERROR: [08:49:15] Explicit valence for atom # 1 Ba, 18, is greater than permitted\n",
      "RDKit ERROR: [08:49:15] Explicit valence for atom # 2 O, 3, is greater than permitted\n",
      "RDKit ERROR: [08:49:15] Can't kekulize mol.  Unkekulized atoms: 1 2 3 4 5\n",
      "RDKit ERROR: \n",
      "RDKit ERROR: [08:49:15] Explicit valence for atom # 0 B, 6, is greater than permitted\n",
      "RDKit ERROR: [08:49:15] Can't kekulize mol.  Unkekulized atoms: 3 4 5 6 7\n",
      "RDKit ERROR: \n"
     ]
    }
   ],
   "source": [
    "#jrc rdkit dictionary\n",
    "tsca_smiles = {k : Chem.MolFromSmiles(v) for k,v in tsca_dict.items() }"
   ]
  },
  {
   "cell_type": "code",
   "execution_count": 57,
   "metadata": {},
   "outputs": [],
   "source": [
    "tsca_smiles = {k:v for k,v in tsca_smiles.items() if v is not None}"
   ]
  },
  {
   "cell_type": "code",
   "execution_count": 58,
   "metadata": {},
   "outputs": [],
   "source": [
    "tsca_Dow = {x:[k for k, v in Dow_smarts.items() if any([y.HasSubstructMatch(e) for e in v])] for x,y in tsca_smiles.items()}"
   ]
  },
  {
   "cell_type": "code",
   "execution_count": 59,
   "metadata": {},
   "outputs": [],
   "source": [
    "tsca_Enoch = {x:[k for k, v in enoch_smarts.items() if any([y.HasSubstructMatch(e) for e in v])] for x,y in tsca_smiles.items()}"
   ]
  },
  {
   "cell_type": "code",
   "execution_count": 60,
   "metadata": {},
   "outputs": [],
   "source": [
    "tsca_OECD = {x:[k for k, v in oecd_smarts.items() if any([y.HasSubstructMatch(e) for e in v])] for x,y in tsca_smiles.items()}"
   ]
  },
  {
   "cell_type": "code",
   "execution_count": 64,
   "metadata": {},
   "outputs": [],
   "source": [
    "oecd_df = pd.DataFrame(list(tsca_OECD.items()))"
   ]
  },
  {
   "cell_type": "code",
   "execution_count": 65,
   "metadata": {},
   "outputs": [],
   "source": [
    "enoch_df = pd.DataFrame(list(tsca_Enoch.items()))"
   ]
  },
  {
   "cell_type": "code",
   "execution_count": 66,
   "metadata": {},
   "outputs": [],
   "source": [
    "dow_df = pd.DataFrame(list(tsca_Dow.items()))"
   ]
  },
  {
   "cell_type": "code",
   "execution_count": 67,
   "metadata": {},
   "outputs": [
    {
     "data": {
      "text/plain": [
       "(14272, 2)"
      ]
     },
     "execution_count": 67,
     "metadata": {},
     "output_type": "execute_result"
    }
   ],
   "source": [
    "dow_df.shape"
   ]
  },
  {
   "cell_type": "code",
   "execution_count": 69,
   "metadata": {},
   "outputs": [
    {
     "data": {
      "text/plain": [
       "(14272, 2)"
      ]
     },
     "execution_count": 69,
     "metadata": {},
     "output_type": "execute_result"
    }
   ],
   "source": [
    "enoch_df.shape"
   ]
  },
  {
   "cell_type": "code",
   "execution_count": 70,
   "metadata": {},
   "outputs": [
    {
     "data": {
      "text/plain": [
       "(14272, 2)"
      ]
     },
     "execution_count": 70,
     "metadata": {},
     "output_type": "execute_result"
    }
   ],
   "source": [
    "oecd_df.shape"
   ]
  },
  {
   "cell_type": "code",
   "execution_count": 72,
   "metadata": {},
   "outputs": [],
   "source": [
    "dow_df.columns = ['dtxsid', 'dow_alerts']"
   ]
  },
  {
   "cell_type": "code",
   "execution_count": 73,
   "metadata": {},
   "outputs": [],
   "source": [
    "enoch_df.columns = ['dtxsid', 'enoch_alerts']\n",
    "oecd_df.columns = ['dtxsid', 'oecd_alerts']"
   ]
  },
  {
   "cell_type": "code",
   "execution_count": 74,
   "metadata": {},
   "outputs": [],
   "source": [
    "dow_df =dow_df.set_index('dtxsid')\n",
    "enoch_df = enoch_df.set_index('dtxsid')\n",
    "oecd_df = oecd_df.set_index('dtxsid')\n",
    "\n",
    "all_df = pd.concat([dow_df, enoch_df, oecd_df], axis = 1)"
   ]
  },
  {
   "cell_type": "code",
   "execution_count": 80,
   "metadata": {},
   "outputs": [],
   "source": [
    "def convert_df(s):\n",
    "    return s.apply(lambda x: 0 if len(x) == 0 else 1)"
   ]
  },
  {
   "cell_type": "code",
   "execution_count": 88,
   "metadata": {},
   "outputs": [],
   "source": [
    "for col in all_df.columns:\n",
    "    all_df[col] = convert_df(all_df[col])"
   ]
  },
  {
   "cell_type": "code",
   "execution_count": 90,
   "metadata": {},
   "outputs": [],
   "source": [
    "all_df\n",
    "all_df['OverAll'] = all_df.sum(1)"
   ]
  },
  {
   "cell_type": "code",
   "execution_count": 92,
   "metadata": {},
   "outputs": [],
   "source": [
    "all_df['final'] = all_df['OverAll'].apply(lambda x: 1 if x >=1 else 0)\n",
    "    "
   ]
  },
  {
   "cell_type": "code",
   "execution_count": 94,
   "metadata": {},
   "outputs": [
    {
     "data": {
      "text/plain": [
       "0    8605\n",
       "1    5667\n",
       "Name: final, dtype: int64"
      ]
     },
     "execution_count": 94,
     "metadata": {},
     "output_type": "execute_result"
    }
   ],
   "source": [
    "all_df['final'].value_counts()"
   ]
  },
  {
   "cell_type": "code",
   "execution_count": 95,
   "metadata": {},
   "outputs": [],
   "source": [
    "all_df.to_csv(external_dir+'nelms_tsca_300123.csv')"
   ]
  },
  {
   "cell_type": "code",
   "execution_count": null,
   "metadata": {},
   "outputs": [],
   "source": []
  }
 ],
 "metadata": {
  "kernelspec": {
   "display_name": "pfas_dap",
   "language": "python",
   "name": "pfas_dap"
  },
  "language_info": {
   "codemirror_mode": {
    "name": "ipython",
    "version": 3
   },
   "file_extension": ".py",
   "mimetype": "text/x-python",
   "name": "python",
   "nbconvert_exporter": "python",
   "pygments_lexer": "ipython3",
   "version": "3.8.6"
  }
 },
 "nbformat": 4,
 "nbformat_minor": 4
}
